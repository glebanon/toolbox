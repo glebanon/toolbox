{
 "cells": [
  {
   "cell_type": "markdown",
   "metadata": {},
   "source": [
    "# New Mac Laptop Setup"
   ]
  },
  {
   "cell_type": "markdown",
   "metadata": {},
   "source": [
    "Adjust computer setting:\n",
    "* system preferences (keyboard, trackpad, etc.)\n",
    "* remove unnecessary applications from applications bar and move it to side and enable magnification\n"
   ]
  },
  {
   "cell_type": "code",
   "execution_count": null,
   "metadata": {},
   "outputs": [],
   "source": []
  },
  {
   "cell_type": "markdown",
   "metadata": {},
   "source": [
    "# Install Homebrew"
   ]
  },
  {
   "cell_type": "code",
   "execution_count": 3,
   "metadata": {},
   "outputs": [
    {
     "name": "stderr",
     "output_type": "stream",
     "text": [
      "  % Total    % Received % Xferd  Average Speed   Time    Time     Time  Current\n",
      "                                 Dload  Upload   Total   Spent    Left  Speed\n",
      "100   128    0   128    0     0    421      0 --:--:-- --:--:-- --:--:--   422\n",
      "100 1730k    0 1730k    0     0   989k      0 --:--:--  0:00:01 --:--:-- 1471k\n"
     ]
    }
   ],
   "source": [
    "%%bash\n",
    "xcode-select --install\n",
    "mkdir homebrew && curl -L https://github.com/Homebrew/brew/tarball/master | tar xz --strip 1 -C homebrew\n",
    "brew update  # Fetch latest version of homebrew\n",
    "brew tap caskroom/cask # Tap Caskroom/Cask repo"
   ]
  },
  {
   "cell_type": "markdown",
   "metadata": {},
   "source": [
    "Type ```search --casks``` for a list of available apps"
   ]
  },
  {
   "cell_type": "code",
   "execution_count": null,
   "metadata": {},
   "outputs": [],
   "source": []
  },
  {
   "cell_type": "markdown",
   "metadata": {},
   "source": [
    "# Change Shell\n",
    "\n",
    "execute ```chsh``` command and change shell to ```/usr/zsh```. Subsequentially, copy the latest ```.zshrc``` file from Google Drive to the home director"
   ]
  },
  {
   "cell_type": "markdown",
   "metadata": {},
   "source": [
    "# Install Chrome, Atom, iTerm2, VLC player, Exa"
   ]
  },
  {
   "cell_type": "code",
   "execution_count": 7,
   "metadata": {},
   "outputs": [
    {
     "name": "stdout",
     "output_type": "stream",
     "text": [
      "Updated 3 taps (homebrew/core, homebrew/cask and caskroom/cask).\n",
      "==> Updated Formulae\n",
      "isync\n",
      "youtube-dl\n",
      "==> Satisfying dependencies\n",
      "==> Downloading https://dl.google.com/chrome/mac/stable/GGRO/googlechrome.dmg\n",
      "Already downloaded: /Users/lebanon/Library/Caches/Homebrew/downloads/9830ac8a5256756d2643fbdb6a47ba0eb019c3816fc4366049f2483999b2ee4f--googlechrome.dmg\n",
      "==> Verifying SHA-256 checksum for Cask 'google-chrome'.\n",
      "==> Installing Cask google-chrome\n",
      "==> Purging files for version 75.0.3770.100 of Cask google-chrome\n",
      "==> Satisfying dependencies\n",
      "==> Downloading https://github.com/atom/atom/releases/download/v1.38.2/atom-mac.zip\n",
      "Already downloaded: /Users/lebanon/Library/Caches/Homebrew/downloads/5d336cb540e58240712ba51da7b87d4176a2c49a76f1eda505173cd07cc79eea--atom-mac.zip\n",
      "==> Verifying SHA-256 checksum for Cask 'atom'.\n",
      "==> Installing Cask atom\n",
      "==> Purging files for version 1.38.2 of Cask atom\n",
      "==> Satisfying dependencies\n",
      "==> Downloading https://iterm2.com/downloads/stable/iTerm2-3_2_9.zip\n",
      "Already downloaded: /Users/lebanon/Library/Caches/Homebrew/downloads/30c1b0d5da5b947edede6ee44d2ae1e8f1a331955d291540f42456bb5836e4c9--iTerm2-3_2_9.zip\n",
      "==> Verifying SHA-256 checksum for Cask 'iterm2'.\n",
      "==> Installing Cask iterm2\n",
      "==> Purging files for version 3.2.9 of Cask iterm2\n"
     ]
    },
    {
     "name": "stderr",
     "output_type": "stream",
     "text": [
      "Error: It seems there is already an App at '/Applications/Google Chrome.app'.\n",
      "Error: It seems there is already an App at '/Applications/Atom.app'.\n",
      "Error: It seems there is already an App at '/Applications/iTerm.app'.\n",
      "Warning: Cask 'vlc' is already installed.\n",
      "\n",
      "To re-install vlc, run:\n",
      "  brew cask reinstall vlc\n",
      "Warning: exa 0.8.0 is already installed and up-to-date\n",
      "To reinstall 0.8.0, run `brew reinstall exa`\n"
     ]
    }
   ],
   "source": [
    "%%bash\n",
    "brew cask install google-chrome\n",
    "brew cask install atom\n",
    "brew cask install iterm2 \n",
    "brew cask install vlc\n",
    "brew install exa"
   ]
  },
  {
   "cell_type": "markdown",
   "metadata": {},
   "source": [
    "# Customize iTerm2 Setting\n",
    "\n",
    "* Change font to Monaco 14\n",
    "* set dark or dark solarized background"
   ]
  },
  {
   "cell_type": "code",
   "execution_count": 2,
   "metadata": {},
   "outputs": [
    {
     "name": "stdout",
     "output_type": "stream",
     "text": [
      "\u001b[33mYou already have Oh My Zsh installed.\u001b[m\n",
      "You'll need to remove '/Users/lebanon/.oh-my-zsh' if you want to reinstall.\n"
     ]
    }
   ],
   "source": [
    "# Install oh-my-zshell\n",
    "!sh -c \"$(curl -fsSL https://raw.githubusercontent.com/robbyrussell/oh-my-zsh/master/tools/install.sh)\""
   ]
  },
  {
   "cell_type": "markdown",
   "metadata": {},
   "source": [
    "Play around with iTerm2 and then install the following oh-my-zshell themes. They are already enabled in the .zshrc file. "
   ]
  },
  {
   "cell_type": "code",
   "execution_count": null,
   "metadata": {},
   "outputs": [],
   "source": [
    "%%bash\n",
    "git clone https://github.com/zsh-users/zsh-syntax-highlighting.git ${ZSH_CUSTOM:-~/.oh-my-zsh/custom}/plugins/zsh-syntax-highlighting\n",
    "git clone https://github.com/zsh-users/zsh-autosuggestions $ZSH_CUSTOM/plugins/zsh-autosuggestions"
   ]
  },
  {
   "cell_type": "markdown",
   "metadata": {},
   "source": [
    "# Install Python3 Ecosystem"
   ]
  },
  {
   "cell_type": "code",
   "execution_count": 5,
   "metadata": {},
   "outputs": [
    {
     "name": "stdout",
     "output_type": "stream",
     "text": [
      "Requirement already satisfied: numpy in /usr/local/lib/python3.7/site-packages (1.16.4)\n",
      "Requirement already satisfied: scipy in /usr/local/lib/python3.7/site-packages (1.3.0)\n",
      "Requirement already satisfied: pandas in /usr/local/lib/python3.7/site-packages (0.24.2)\n",
      "Requirement already satisfied: matplotlib in /usr/local/lib/python3.7/site-packages (3.1.1)\n",
      "Requirement already satisfied: seaborn in /usr/local/lib/python3.7/site-packages (0.9.0)\n",
      "Requirement already satisfied: python-dateutil>=2.5.0 in /usr/local/lib/python3.7/site-packages (from pandas) (2.8.0)\n",
      "Requirement already satisfied: pytz>=2011k in /usr/local/lib/python3.7/site-packages (from pandas) (2019.1)\n",
      "Requirement already satisfied: pyparsing!=2.0.4,!=2.1.2,!=2.1.6,>=2.0.1 in /usr/local/lib/python3.7/site-packages (from matplotlib) (2.4.0)\n",
      "Requirement already satisfied: kiwisolver>=1.0.1 in /usr/local/lib/python3.7/site-packages (from matplotlib) (1.1.0)\n",
      "Requirement already satisfied: cycler>=0.10 in /usr/local/lib/python3.7/site-packages (from matplotlib) (0.10.0)\n",
      "Requirement already satisfied: six>=1.5 in /usr/local/lib/python3.7/site-packages (from python-dateutil>=2.5.0->pandas) (1.12.0)\n",
      "Requirement already satisfied: setuptools in /usr/local/lib/python3.7/site-packages (from kiwisolver>=1.0.1->matplotlib) (41.0.1)\n",
      "Requirement already satisfied: statsmodels in /usr/local/lib/python3.7/site-packages (0.10.0)\n",
      "Requirement already satisfied: plotly in /usr/local/lib/python3.7/site-packages (3.10.0)\n",
      "Requirement already satisfied: cufflinks in /usr/local/lib/python3.7/site-packages (0.16)\n",
      "Requirement already satisfied: jupyterlab in /usr/local/lib/python3.7/site-packages (0.35.6)\n",
      "Requirement already satisfied: patsy>=0.4.0 in /usr/local/lib/python3.7/site-packages (from statsmodels) (0.5.1)\n",
      "Requirement already satisfied: scipy>=0.18 in /usr/local/lib/python3.7/site-packages (from statsmodels) (1.3.0)\n",
      "Requirement already satisfied: numpy>=1.11 in /usr/local/lib/python3.7/site-packages (from statsmodels) (1.16.4)\n",
      "Requirement already satisfied: pandas>=0.19 in /usr/local/lib/python3.7/site-packages (from statsmodels) (0.24.2)\n",
      "Requirement already satisfied: nbformat>=4.2 in /usr/local/lib/python3.7/site-packages (from plotly) (4.4.0)\n",
      "Requirement already satisfied: requests in /usr/local/lib/python3.7/site-packages (from plotly) (2.22.0)\n",
      "Requirement already satisfied: decorator>=4.0.6 in /usr/local/lib/python3.7/site-packages (from plotly) (4.4.0)\n",
      "Requirement already satisfied: six in /usr/local/lib/python3.7/site-packages (from plotly) (1.12.0)\n",
      "Requirement already satisfied: pytz in /usr/local/lib/python3.7/site-packages (from plotly) (2019.1)\n",
      "Requirement already satisfied: retrying>=1.3.3 in /usr/local/lib/python3.7/site-packages (from plotly) (1.3.3)\n",
      "Requirement already satisfied: setuptools>=34.4.1 in /usr/local/lib/python3.7/site-packages (from cufflinks) (41.0.1)\n",
      "Requirement already satisfied: ipywidgets>=7.0.0 in /usr/local/lib/python3.7/site-packages (from cufflinks) (7.4.2)\n",
      "Requirement already satisfied: ipython>=5.3.0 in /usr/local/lib/python3.7/site-packages (from cufflinks) (7.5.0)\n",
      "Requirement already satisfied: colorlover>=0.2.1 in /usr/local/lib/python3.7/site-packages (from cufflinks) (0.3.0)\n",
      "Requirement already satisfied: jupyterlab-server<0.3.0,>=0.2.0 in /usr/local/lib/python3.7/site-packages (from jupyterlab) (0.2.0)\n",
      "Requirement already satisfied: notebook>=4.3.1 in /usr/local/lib/python3.7/site-packages (from jupyterlab) (5.7.8)\n",
      "Requirement already satisfied: python-dateutil>=2.5.0 in /usr/local/lib/python3.7/site-packages (from pandas>=0.19->statsmodels) (2.8.0)\n",
      "Requirement already satisfied: ipython-genutils in /usr/local/lib/python3.7/site-packages (from nbformat>=4.2->plotly) (0.2.0)\n",
      "Requirement already satisfied: jupyter-core in /usr/local/lib/python3.7/site-packages (from nbformat>=4.2->plotly) (4.5.0)\n",
      "Requirement already satisfied: jsonschema!=2.5.0,>=2.4 in /usr/local/lib/python3.7/site-packages (from nbformat>=4.2->plotly) (3.0.1)\n",
      "Requirement already satisfied: traitlets>=4.1 in /usr/local/lib/python3.7/site-packages (from nbformat>=4.2->plotly) (4.3.2)\n",
      "Requirement already satisfied: certifi>=2017.4.17 in /Users/lebanon/Library/Python/3.7/lib/python/site-packages (from requests->plotly) (2019.6.16)\n",
      "Requirement already satisfied: urllib3!=1.25.0,!=1.25.1,<1.26,>=1.21.1 in /usr/local/lib/python3.7/site-packages (from requests->plotly) (1.25.3)\n",
      "Requirement already satisfied: idna<2.9,>=2.5 in /usr/local/lib/python3.7/site-packages (from requests->plotly) (2.8)\n",
      "Requirement already satisfied: chardet<3.1.0,>=3.0.2 in /usr/local/lib/python3.7/site-packages (from requests->plotly) (3.0.4)\n",
      "Requirement already satisfied: ipykernel>=4.5.1 in /usr/local/lib/python3.7/site-packages (from ipywidgets>=7.0.0->cufflinks) (5.1.1)\n",
      "Requirement already satisfied: widgetsnbextension~=3.4.0 in /usr/local/lib/python3.7/site-packages (from ipywidgets>=7.0.0->cufflinks) (3.4.2)\n",
      "Requirement already satisfied: pickleshare in /usr/local/lib/python3.7/site-packages (from ipython>=5.3.0->cufflinks) (0.7.5)\n",
      "Requirement already satisfied: backcall in /usr/local/lib/python3.7/site-packages (from ipython>=5.3.0->cufflinks) (0.1.0)\n",
      "Requirement already satisfied: jedi>=0.10 in /usr/local/lib/python3.7/site-packages (from ipython>=5.3.0->cufflinks) (0.14.0)\n",
      "Requirement already satisfied: prompt-toolkit<2.1.0,>=2.0.0 in /usr/local/lib/python3.7/site-packages (from ipython>=5.3.0->cufflinks) (2.0.9)\n",
      "Requirement already satisfied: pygments in /usr/local/lib/python3.7/site-packages (from ipython>=5.3.0->cufflinks) (2.4.2)\n",
      "Requirement already satisfied: appnope; sys_platform == \"darwin\" in /usr/local/lib/python3.7/site-packages (from ipython>=5.3.0->cufflinks) (0.1.0)\n",
      "Requirement already satisfied: pexpect; sys_platform != \"win32\" in /usr/local/lib/python3.7/site-packages (from ipython>=5.3.0->cufflinks) (4.7.0)\n",
      "Requirement already satisfied: jupyter-client>=5.2.0 in /usr/local/lib/python3.7/site-packages (from notebook>=4.3.1->jupyterlab) (5.2.4)\n",
      "Requirement already satisfied: nbconvert in /usr/local/lib/python3.7/site-packages (from notebook>=4.3.1->jupyterlab) (5.5.0)\n",
      "Requirement already satisfied: terminado>=0.8.1 in /usr/local/lib/python3.7/site-packages (from notebook>=4.3.1->jupyterlab) (0.8.2)\n",
      "Requirement already satisfied: Send2Trash in /usr/local/lib/python3.7/site-packages (from notebook>=4.3.1->jupyterlab) (1.5.0)\n",
      "Requirement already satisfied: prometheus-client in /usr/local/lib/python3.7/site-packages (from notebook>=4.3.1->jupyterlab) (0.7.1)\n",
      "Requirement already satisfied: jinja2 in /usr/local/lib/python3.7/site-packages (from notebook>=4.3.1->jupyterlab) (2.10.1)\n",
      "Requirement already satisfied: tornado<7,>=4.1 in /usr/local/lib/python3.7/site-packages (from notebook>=4.3.1->jupyterlab) (6.0.3)\n",
      "Requirement already satisfied: pyzmq>=17 in /usr/local/lib/python3.7/site-packages (from notebook>=4.3.1->jupyterlab) (18.0.1)\n",
      "Requirement already satisfied: attrs>=17.4.0 in /usr/local/lib/python3.7/site-packages (from jsonschema!=2.5.0,>=2.4->nbformat>=4.2->plotly) (19.1.0)\n",
      "Requirement already satisfied: pyrsistent>=0.14.0 in /usr/local/lib/python3.7/site-packages (from jsonschema!=2.5.0,>=2.4->nbformat>=4.2->plotly) (0.15.2)\n",
      "Requirement already satisfied: parso>=0.3.0 in /usr/local/lib/python3.7/site-packages (from jedi>=0.10->ipython>=5.3.0->cufflinks) (0.5.0)\n",
      "Requirement already satisfied: wcwidth in /usr/local/lib/python3.7/site-packages (from prompt-toolkit<2.1.0,>=2.0.0->ipython>=5.3.0->cufflinks) (0.1.7)\n",
      "Requirement already satisfied: ptyprocess>=0.5 in /usr/local/lib/python3.7/site-packages (from pexpect; sys_platform != \"win32\"->ipython>=5.3.0->cufflinks) (0.6.0)\n",
      "Requirement already satisfied: mistune>=0.8.1 in /usr/local/lib/python3.7/site-packages (from nbconvert->notebook>=4.3.1->jupyterlab) (0.8.4)\n",
      "Requirement already satisfied: defusedxml in /usr/local/lib/python3.7/site-packages (from nbconvert->notebook>=4.3.1->jupyterlab) (0.6.0)\n",
      "Requirement already satisfied: pandocfilters>=1.4.1 in /usr/local/lib/python3.7/site-packages (from nbconvert->notebook>=4.3.1->jupyterlab) (1.4.2)\n",
      "Requirement already satisfied: bleach in /usr/local/lib/python3.7/site-packages (from nbconvert->notebook>=4.3.1->jupyterlab) (3.1.0)\n",
      "Requirement already satisfied: entrypoints>=0.2.2 in /usr/local/lib/python3.7/site-packages (from nbconvert->notebook>=4.3.1->jupyterlab) (0.3)\n",
      "Requirement already satisfied: testpath in /usr/local/lib/python3.7/site-packages (from nbconvert->notebook>=4.3.1->jupyterlab) (0.4.2)\n",
      "Requirement already satisfied: MarkupSafe>=0.23 in /usr/local/lib/python3.7/site-packages (from jinja2->notebook>=4.3.1->jupyterlab) (1.1.1)\n",
      "Requirement already satisfied: webencodings in /usr/local/lib/python3.7/site-packages (from bleach->nbconvert->notebook>=4.3.1->jupyterlab) (0.5.1)\n",
      "Requirement already satisfied: sklearn in /usr/local/lib/python3.7/site-packages (0.0)\n",
      "Requirement already satisfied: sqlalchemy in /usr/local/lib/python3.7/site-packages (1.3.5)\n",
      "Requirement already satisfied: lxml in /usr/local/lib/python3.7/site-packages (4.3.4)\n",
      "Requirement already satisfied: html5lib in /usr/local/lib/python3.7/site-packages (1.0.1)\n",
      "Requirement already satisfied: BeautifulSoup4 in /usr/local/lib/python3.7/site-packages (4.7.1)\n",
      "Requirement already satisfied: scikit-learn in /usr/local/lib/python3.7/site-packages (from sklearn) (0.21.2)\n",
      "Requirement already satisfied: six>=1.9 in /usr/local/lib/python3.7/site-packages (from html5lib) (1.12.0)\n",
      "Requirement already satisfied: webencodings in /usr/local/lib/python3.7/site-packages (from html5lib) (0.5.1)\n",
      "Requirement already satisfied: soupsieve>=1.2 in /usr/local/lib/python3.7/site-packages (from BeautifulSoup4) (1.9.2)\n",
      "Requirement already satisfied: numpy>=1.11.0 in /usr/local/lib/python3.7/site-packages (from scikit-learn->sklearn) (1.16.4)\n",
      "Requirement already satisfied: scipy>=0.17.0 in /usr/local/lib/python3.7/site-packages (from scikit-learn->sklearn) (1.3.0)\n",
      "Requirement already satisfied: joblib>=0.11 in /usr/local/lib/python3.7/site-packages (from scikit-learn->sklearn) (0.13.2)\n"
     ]
    },
    {
     "name": "stderr",
     "output_type": "stream",
     "text": [
      "Error: python 3.7.3 is already installed\n",
      "To upgrade to 3.7.4, run `brew upgrade python`.\n",
      "Warning: node 12.6.0 is already installed and up-to-date\n",
      "To reinstall 12.6.0, run `brew reinstall node`\n"
     ]
    }
   ],
   "source": [
    "%%bash\n",
    "brew install python3\n",
    "brew install node\n",
    "pip3 install numpy scipy pandas matplotlib seaborn jupyeter\n",
    "pip3 install statsmodels plotly cufflinks jupyterlab \n",
    "pip3 install sklearn sqlalchemy lxml html5lib BeautifulSoup4 "
   ]
  },
  {
   "cell_type": "code",
   "execution_count": null,
   "metadata": {},
   "outputs": [],
   "source": []
  }
 ],
 "metadata": {
  "kernelspec": {
   "display_name": "Python 3",
   "language": "python",
   "name": "python3"
  },
  "language_info": {
   "codemirror_mode": {
    "name": "ipython",
    "version": 3
   },
   "file_extension": ".py",
   "mimetype": "text/x-python",
   "name": "python",
   "nbconvert_exporter": "python",
   "pygments_lexer": "ipython3",
   "version": "3.7.3"
  }
 },
 "nbformat": 4,
 "nbformat_minor": 2
}
