{
 "cells": [
  {
   "cell_type": "markdown",
   "metadata": {},
   "source": [
    "# Python Notes"
   ]
  },
  {
   "cell_type": "markdown",
   "metadata": {},
   "source": [
    "# Useful Links and Resources\n"
   ]
  },
  {
   "cell_type": "markdown",
   "metadata": {},
   "source": [
    "Useful references:\n",
    "\n",
    "* Jupyter blog https://blog.jupyter.org/\n",
    "* Jupyter lab extensions: https://github.com/topics/jupyterlab-extension\n"
   ]
  },
  {
   "cell_type": "markdown",
   "metadata": {},
   "source": [
    "# Basics"
   ]
  },
  {
   "cell_type": "markdown",
   "metadata": {},
   "source": [
    "Basic Data types: \n",
    "\n",
    "* Integers\n",
    "* Floating point values\n",
    "* Strings ``` \"my string\"``` (immutable, iterable, ordered, unicode in Python3)\n",
    "* Lists ```[\"one\",2]```(mutable, itrable, ordered, heterogenous)\n",
    "* Tuples ```(\"one\",2)``` (immutable, iterable, ordered, heterogenous, labelable) \n",
    "* Dictionaries ```{\"k1\": val1, \"k2\": \"val2\"}``` (mutable, iterable, unordered, string keys, heterogenous vals)  \n"
   ]
  },
  {
   "cell_type": "code",
   "execution_count": 1,
   "metadata": {},
   "outputs": [
    {
     "name": "stdout",
     "output_type": "stream",
     "text": [
      "Solution is: 42\n",
      "I'm going to inject one (string) here, and 2.13 (float) here.\n",
      "Its fleece was white as snow.\n",
      "So, you're 44 old, 175 tall and 70 heavy.\n"
     ]
    }
   ],
   "source": [
    "# variables\n",
    "x = \"string variable\"  # assign a variable\n",
    "del x  # delete a variable\n",
    "\n",
    "# print function\n",
    "print(\"Solution is:\", 42, end=\"\\n\")  # end argument is optional\n",
    "\n",
    "# string interpolation\n",
    "print(\"I'm going to inject %s (string) here, and %4.2f (float) here.\" % (\"one\",2.13)) # old style\n",
    "print(\"Its fleece was {x} as {y}.\".format(x=\"white\", y=\"snow\"))  # format\n",
    "age = 44\n",
    "height = 175\n",
    "weight = 70\n",
    "print(f\"So, you're {age} old, {height} tall and {weight} heavy.\")  # f-string\n"
   ]
  },
  {
   "cell_type": "code",
   "execution_count": 2,
   "metadata": {},
   "outputs": [
    {
     "name": "stdout",
     "output_type": "stream",
     "text": [
      "a: 1\n",
      "b: 2\n",
      "c: 3\n",
      "d: 4\n",
      "e: 5\n"
     ]
    }
   ],
   "source": [
    "# dictionaries\n",
    "d = {'a': 1, 'b': 2, 'c': 3, 'd': 4, 'e': 5}  # creating a dict object\n",
    "d = dict(zip(['a','b','c','d','e'], [1,2,3,4,5]))  # creating a dict with zip function\n",
    "for k,v in d.items():  # iterating over dict; d.items() returns (k,v) tuples in d\n",
    "    print(k, end=\": \")\n",
    "    print(v)"
   ]
  },
  {
   "cell_type": "code",
   "execution_count": 3,
   "metadata": {},
   "outputs": [
    {
     "name": "stdout",
     "output_type": "stream",
     "text": [
      "[0, 1, 2, 3, 4, 5, 6, 7, 8, 9]\n",
      "2 is even and in [0,...,9]\n"
     ]
    }
   ],
   "source": [
    "print(list(range(0, 10, 1)))  # create list 0, 1, ..., 0\n",
    "\n",
    "# if-elif-else statements\n",
    "x = 6\n",
    "if x%2 == 0 and x in list(range(0,10)):   # note the use of the keyword in\n",
    "    print(\"2 is even and in [0,...,9]\")\n",
    "elif x%2 == 0:\n",
    "    print(\"x is even\")\n",
    "else:\n",
    "    print(\"x is odd and is either negative or >= 10\")"
   ]
  },
  {
   "cell_type": "code",
   "execution_count": 4,
   "metadata": {},
   "outputs": [
    {
     "name": "stdout",
     "output_type": "stream",
     "text": [
      "0 1 2 3 4 5 6 7 8 9 \n",
      "The letter at index 0 is a\n",
      "The letter at index 1 is b\n",
      "The letter at index 2 is c\n",
      "The letter at index 3 is d\n",
      "The letter at index 4 is e"
     ]
    }
   ],
   "source": [
    "# For loops\n",
    "my_list = zip(list(range(10)), 'a' * 10)\n",
    "for a,_ in my_list:  # tuple unpbacking; using _ for unused vals\n",
    "    print(a, end=\" \")\n",
    "\n",
    "for i,letter in enumerate('abcde'):  # enumerate() returns (index,val) tuples\n",
    "    print(\"\\nThe letter at index {} is {}\".format(i, letter), end=\"\")"
   ]
  },
  {
   "cell_type": "code",
   "execution_count": 5,
   "metadata": {},
   "outputs": [
    {
     "name": "stdout",
     "output_type": "stream",
     "text": [
      "[2, 6, 9, 8, 3, 5, 0, 7, 4, 1]\n",
      "1, 0, 1, 3, 0, 3, 2, 2, 3, 2, "
     ]
    }
   ],
   "source": [
    "import random\n",
    "lst = list(range(10))\n",
    "random.shuffle(lst)  # in-place shuffle\n",
    "print(lst)\n",
    "for _ in range(10):\n",
    "    num = random.randint(0,3)  # random integer between 0 and 2 (inclusive)\n",
    "    print(num, end=\", \")"
   ]
  },
  {
   "cell_type": "code",
   "execution_count": 9,
   "metadata": {},
   "outputs": [
    {
     "name": "stdout",
     "output_type": "stream",
     "text": [
      "[32.0, 50.0, 68.18, 94.1]\n",
      "[(1, 1), (1, 2), (1, 3), (2, 1), (2, 2), (2, 3), (3, 1), (3, 2), (3, 3)]\n"
     ]
    }
   ],
   "source": [
    "# list comprehensions\n",
    "[num**2 for num in range(1,5)]  # yields [1, 4, 9, 16]\n",
    "[num**2 for num in range(1,5) if num%2==0]  # yields [4, 16]\n",
    "celsius_lst = [0, 10, 20.1, 34.5]\n",
    "fahrenheit_lst = [((9/5)*temp + 32) for temp in celsius_lst]\n",
    "print(fahrenheit_lst)\n",
    "lst = [(x,y) for x in range(1,4) for y in range(1,4)]  # cross product\n",
    "print(lst)"
   ]
  },
  {
   "cell_type": "code",
   "execution_count": 10,
   "metadata": {},
   "outputs": [
    {
     "name": "stdout",
     "output_type": "stream",
     "text": [
      "Hello Guy Lebanon\n",
      "Hello John Doe\n"
     ]
    },
    {
     "data": {
      "text/plain": [
       "'John Doe'"
      ]
     },
     "execution_count": 10,
     "metadata": {},
     "output_type": "execute_result"
    }
   ],
   "source": [
    "# functions\n",
    "def say_hello(name = \"John Doe\"):  # note default parameter value\n",
    "    '''DOCSTRING'''\n",
    "    print(\"Hello \" + name.title())  # string.title() captializes first letter of every word\n",
    "    return name\n",
    "\n",
    "say_hello(\"guy lebanon\")\n",
    "say_hello()"
   ]
  },
  {
   "cell_type": "code",
   "execution_count": 11,
   "metadata": {},
   "outputs": [
    {
     "name": "stdout",
     "output_type": "stream",
     "text": [
      "<filter object at 0x1100afda0>\n",
      "[2, 4]\n",
      "<map object at 0x1100afb70>\n",
      "[0, 1, 4, 9, 16, 25, 36, 49, 64, 81]\n"
     ]
    }
   ],
   "source": [
    "# filter: removes elements from a container based on boolean function\n",
    "a = filter(lambda x: x%2==0, [1,2,3,4])  # lambda function\n",
    "print(a)  # note lazy evaluation\n",
    "print(list(a))\n",
    "\n",
    "# map: applies a function to elements in container\n",
    "b = map(lambda num: num**2, range(0,10))\n",
    "print(b)  # note lazy evaluation\n",
    "print(list(b))"
   ]
  },
  {
   "cell_type": "markdown",
   "metadata": {},
   "source": [
    "# Tests"
   ]
  },
  {
   "cell_type": "code",
   "execution_count": 1,
   "metadata": {},
   "outputs": [],
   "source": [
    "import unittest\n",
    "\n",
    "def sieve(n):\n",
    "    pass\n",
    "\n",
    "class SieveTest(unittest.TestCase):  \n",
    "    '''Test suite for sieve() implementing the prime number sieve algorithm'''\n",
    "    \n",
    "    def test_1(self):\n",
    "        self.assertEqual(sieve(1),[])\n",
    "\n",
    "    def test_2(self):\n",
    "        self.assertEqual(sieve(2),[2])\n",
    "\n",
    "    def test_3(self):\n",
    "        self.assertEqual(sieve(3),[2, 3])\n",
    "\n",
    "    def test_4(self):\n",
    "        self.assertEqual(sieve(4),[2, 3])\n",
    "\n",
    "    def test_10(self):\n",
    "        self.assertEqual(sieve(10),[2, 3, 5, 7])\n",
    "\n",
    "    def test_100(self):\n",
    "        self.assertEqual(sieve(100),[2, 3, 5, 7, 11, 13, 17, 19, 23, 29, \\\n",
    "            31, 37, 41, 43, 47, 53, 59, 61, 67, 71, 73, 79, 83, 89, 97])\n",
    "\n",
    "# run test\n",
    "#if __name__ == '__main__':\n",
    "#    unittest.main()"
   ]
  },
  {
   "cell_type": "markdown",
   "metadata": {},
   "source": [
    "# OOP"
   ]
  },
  {
   "cell_type": "code",
   "execution_count": null,
   "metadata": {},
   "outputs": [],
   "source": []
  },
  {
   "cell_type": "code",
   "execution_count": 13,
   "metadata": {},
   "outputs": [
    {
     "name": "stdout",
     "output_type": "stream",
     "text": [
      "3.14\n"
     ]
    }
   ],
   "source": [
    "class Circle():\n",
    "    pi = 3.14  # static variable - same for all Circle objects\n",
    "    def __init__(self, rad = 1):\n",
    "        self.radius = rad\n",
    "    def get_area(self):\n",
    "        return Circle.pi * self.radius **2\n",
    "    \n",
    "my_circle = Circle(1)\n",
    "print(my_circle.get_area())"
   ]
  },
  {
   "cell_type": "code",
   "execution_count": 14,
   "metadata": {},
   "outputs": [],
   "source": [
    "# dunder methods\n",
    "\n",
    "def __getitem__(self, n):  # support subscripting and iteration\n",
    "    return(self.attr1[n])\n",
    "def __repr__(self):  # support string representation\n",
    "    return(self.attr1 + \" \" + self.attr2)\n",
    "def __str__(self):  # support printing to end customers\n",
    "    return(self.attr1 + \" \" + self.attr2)\n",
    "def __len__(self):  # support len function and iteration\n",
    "    return len(self.attr1)\n",
    "def __del__(self):  # support deleting the object\n",
    "    pass\n"
   ]
  },
  {
   "cell_type": "code",
   "execution_count": 15,
   "metadata": {},
   "outputs": [
    {
     "name": "stdout",
     "output_type": "stream",
     "text": [
      "Animal Created\n",
      "Dog created\n",
      "I am an animal\n",
      "I am also a dog.\n",
      "I am chewing a bone\n"
     ]
    }
   ],
   "source": [
    "# inheritance\n",
    "\n",
    "class Animal():\n",
    "    def __init__(self):\n",
    "        print(\"Animal Created\")\n",
    "    def who_am_i(self):\n",
    "        print(\"I am an animal\")\n",
    "    def eat(self):\n",
    "        print(\"I am eating\")\n",
    "\n",
    "class Dog(Animal):\n",
    "    def __init__(self):\n",
    "        super().__init__()\n",
    "        print(\"Dog created\")\n",
    "    def who_am_i(self):\n",
    "        super().who_am_i()\n",
    "        print(\"I am also a dog.\")\n",
    "    def eat(self):\n",
    "        print(\"I am chewing a bone\")\n",
    "        \n",
    "fido = Dog()\n",
    "fido.who_am_i()\n",
    "fido.eat()"
   ]
  },
  {
   "cell_type": "markdown",
   "metadata": {},
   "source": [
    "# Exceptions"
   ]
  },
  {
   "cell_type": "code",
   "execution_count": 42,
   "metadata": {},
   "outputs": [],
   "source": [
    "try:                        \n",
    "    f = open(\"test_file\",\"w\")\n",
    "    f.write(\"test line\")\n",
    "except OSError: # catch specific error\n",
    "    pass\n",
    "except:  # catch all exceptions\n",
    "    pass\n",
    "else: # execute if exception is not raised\n",
    "    pass\n",
    "finally:\n",
    "    pass  # execute last regardless of exception\n"
   ]
  },
  {
   "cell_type": "markdown",
   "metadata": {},
   "source": [
    "# Jupyeter Notebook Features"
   ]
  },
  {
   "cell_type": "code",
   "execution_count": 86,
   "metadata": {},
   "outputs": [
    {
     "name": "stdout",
     "output_type": "stream",
     "text": [
      "/Users/lebanon/Documents\n",
      "\u001b[34mpython\u001b[m\u001b[m/\n"
     ]
    }
   ],
   "source": [
    "# magic commands\n",
    "%cd /Users/lebanon/Documents\n",
    "%pwd\n",
    "%ls"
   ]
  },
  {
   "cell_type": "code",
   "execution_count": 93,
   "metadata": {},
   "outputs": [
    {
     "name": "stdout",
     "output_type": "stream",
     "text": [
      "3\n"
     ]
    }
   ],
   "source": [
    "%%bash \n",
    "export A=4 # multiline magic commands\n",
    "A=3\n",
    "echo $A"
   ]
  },
  {
   "cell_type": "code",
   "execution_count": 62,
   "metadata": {},
   "outputs": [
    {
     "data": {
      "text/latex": [
       "\\[f(x) = \\sum_i \\int_a^b x^2_i\\, \\text{d}x_i\\]\n"
      ],
      "text/plain": [
       "<IPython.core.display.Latex object>"
      ]
     },
     "metadata": {},
     "output_type": "display_data"
    }
   ],
   "source": [
    "%%latex\n",
    "\\[f(x) = \\sum_i \\int_a^b x^2_i\\, \\text{d}x_i\\]"
   ]
  },
  {
   "cell_type": "code",
   "execution_count": 67,
   "metadata": {},
   "outputs": [
    {
     "data": {
      "text/plain": [
       "['total 24',\n",
       " 'drwx------@  6 lebanon  staff   192 Jul 11 08:20 .',\n",
       " 'drwxr-xr-x+ 30 lebanon  staff   960 Jul 11 08:15 ..',\n",
       " '-rw-r--r--@  1 lebanon  staff  8196 Jul 11 07:50 .DS_Store',\n",
       " 'drwxr-xr-x   6 lebanon  staff   192 Jul 10 15:24 .ipynb_checkpoints',\n",
       " '-rw-r--r--   1 lebanon  staff     0 Jun 25 21:32 .localized',\n",
       " 'drwxr-xr-x   7 lebanon  staff   224 Jul 11 08:20 python']"
      ]
     },
     "execution_count": 67,
     "metadata": {},
     "output_type": "execute_result"
    }
   ],
   "source": [
    "file_list = !ls -al | head\n",
    "file_list"
   ]
  },
  {
   "cell_type": "code",
   "execution_count": null,
   "metadata": {},
   "outputs": [],
   "source": []
  },
  {
   "cell_type": "markdown",
   "metadata": {},
   "source": [
    "# Shell Interaction"
   ]
  },
  {
   "cell_type": "code",
   "execution_count": 2,
   "metadata": {},
   "outputs": [
    {
     "data": {
      "text/plain": [
       "'/Users/lebanon'"
      ]
     },
     "execution_count": 2,
     "metadata": {},
     "output_type": "execute_result"
    }
   ],
   "source": [
    "import os\n",
    "os.chdir(\"/Users/lebanon\")\n",
    "os.getcwd()"
   ]
  },
  {
   "cell_type": "code",
   "execution_count": 17,
   "metadata": {
    "scrolled": true
   },
   "outputs": [
    {
     "name": "stdout",
     "output_type": "stream",
     "text": [
      "b'/Users/lebanon\\n'\n"
     ]
    }
   ],
   "source": [
    "import subprocess\n",
    "\n",
    "comp = subprocess.run('echo $HOME', shell = True, stdout = subprocess.PIPE)\n",
    "print(comp.stdout)"
   ]
  },
  {
   "cell_type": "markdown",
   "metadata": {},
   "source": [
    "# Additional Features\n",
    "\n",
    "* Unpacking operators * and **\n",
    "* Reading and writing to files"
   ]
  },
  {
   "cell_type": "code",
   "execution_count": 26,
   "metadata": {},
   "outputs": [
    {
     "name": "stdout",
     "output_type": "stream",
     "text": [
      "first is:  a , second is:  b , third is : c\n",
      "first is:  x , second is:  y , third is : z\n",
      "first is:  1 , second is:  2 , third is : 3\n",
      "   name  age\n",
      "0  john   40\n",
      "1  jane   50\n",
      "   name  age\n",
      "0  john   40\n",
      "1  jane   50\n"
     ]
    }
   ],
   "source": [
    "# unpacking operators * and **\n",
    "v = ['a', 'b', 'c']\n",
    "def foo(x, y, z):\n",
    "    print(\"first is: \", x, \", second is: \" , y, \", third is :\", z)\n",
    "foo(*v)  # call function expecting three arguments with unpacking operator\n",
    "d = {\"x\": 1, \"y\": 2, \"z\": 3}\n",
    "foo(*d)  # unpack dict to extract keys as arguments\n",
    "foo(**d)  # unpack dict to extract keys as arguments\n",
    "\n",
    "# write dataframe as CSV file and read CSV file\n",
    "import numpy as np\n",
    "import pandas as pd\n",
    "df = pd.DataFrame([[\"john\",40],[\"jane\",50]], columns = [\"name\",\"age\"])\n",
    "print(df)\n",
    "df.to_csv('example.csv', index=False)\n",
    "df2 = pd.read_csv('example.csv')\n",
    "print(df2)"
   ]
  },
  {
   "cell_type": "code",
   "execution_count": null,
   "metadata": {},
   "outputs": [],
   "source": []
  }
 ],
 "metadata": {
  "kernelspec": {
   "display_name": "Python 3",
   "language": "python",
   "name": "python3"
  },
  "language_info": {
   "codemirror_mode": {
    "name": "ipython",
    "version": 3
   },
   "file_extension": ".py",
   "mimetype": "text/x-python",
   "name": "python",
   "nbconvert_exporter": "python",
   "pygments_lexer": "ipython3",
   "version": "3.7.4"
  }
 },
 "nbformat": 4,
 "nbformat_minor": 4
}
